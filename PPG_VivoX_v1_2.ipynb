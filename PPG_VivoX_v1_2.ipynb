{
  "cells": [
    {
      "cell_type": "markdown",
      "metadata": {
        "id": "view-in-github",
        "colab_type": "text"
      },
      "source": [
        "<a href=\"https://colab.research.google.com/github/Eric-rWang/VivoX/blob/main/PPG_VivoX_v1_2.ipynb\" target=\"_parent\"><img src=\"https://colab.research.google.com/assets/colab-badge.svg\" alt=\"Open In Colab\"/></a>"
      ]
    },
    {
      "cell_type": "code",
      "execution_count": 4,
      "metadata": {
        "colab": {
          "base_uri": "https://localhost:8080/"
        },
        "id": "9PNnmqXCt43U",
        "outputId": "d9373c6a-c8f8-4b78-8a3b-cc09aa24544e"
      },
      "outputs": [
        {
          "output_type": "stream",
          "name": "stdout",
          "text": [
            "/content/PPG ML\n"
          ]
        }
      ],
      "source": [
        "import os\n",
        "import h5py\n",
        "\n",
        "import torch\n",
        "import torch.nn as nn\n",
        "import numpy as np\n",
        "import pandas as pd\n",
        "import math\n",
        "\n",
        "from sklearn.model_selection import train_test_split\n",
        "from torch.utils.data import TensorDataset, DataLoader, random_split\n",
        "import torch.optim as optim\n",
        "\n",
        "os.chdir(\"/content/PPG ML\")\n",
        "print(os.getcwd())"
      ]
    },
    {
      "cell_type": "markdown",
      "metadata": {
        "id": "0U9WdLqoS3XT"
      },
      "source": [
        "VivoX transformer model:\n",
        "<ul>\n",
        "<li>Linear projection from flattened window inputs to d_model</li>\n",
        "<li>Sinusoidal positional encodings</li>\n",
        "<li>Standard encoder stack</li>\n",
        "<li>Mean pooling and MLP head for arterial and venous regression</li>\n",
        "</ul>"
      ]
    },
    {
      "cell_type": "code",
      "execution_count": 5,
      "metadata": {
        "id": "MXdPytBLS2O2"
      },
      "outputs": [],
      "source": [
        "class PositionalEncoding(nn.Module):\n",
        "    \"\"\"\n",
        "    Implements sinusoidal positional encoding.\n",
        "    \"\"\"\n",
        "    def __init__(self, d_model: int, max_len: int = 5000):\n",
        "        super().__init__()\n",
        "        pe = torch.zeros(max_len, d_model)\n",
        "        position = torch.arange(0, max_len, dtype=torch.float).unsqueeze(1)\n",
        "        div_term = torch.exp(torch.arange(0, d_model, 2).float() *\n",
        "                             (-math.log(10000.0) / d_model))\n",
        "        pe[:, 0::2] = torch.sin(position * div_term)\n",
        "        pe[:, 1::2] = torch.cos(position * div_term)\n",
        "        pe = pe.unsqueeze(0)  # shape (1, max_len, d_model)\n",
        "        self.register_buffer('pe', pe)\n",
        "\n",
        "    def forward(self, x: torch.Tensor) -> torch.Tensor:\n",
        "        \"\"\"\n",
        "        Args:\n",
        "            x: Tensor of shape (batch_size, seq_len, d_model)\n",
        "        Returns:\n",
        "            Tensor: (batch_size, seq_len, d_model) with positional encoding added\n",
        "        \"\"\"\n",
        "        x = x + self.pe[:, :x.size(1), :]\n",
        "        return x\n",
        "\n",
        "\n",
        "class vivoxTransformer(nn.Module):\n",
        "    \"\"\"\n",
        "    Simple Transformer model for arterial & venous SpO2 prediction from multichannel PPG.\n",
        "\n",
        "    Args:\n",
        "        num_channels: number of input channels (e.g., 36)\n",
        "        window_size: number of time samples per window (e.g., 350)\n",
        "        d_model: embedding dimension\n",
        "        nhead: number of attention heads\n",
        "        num_layers: number of Transformer encoder layers\n",
        "        dim_feedforward: dimension of the MLP in encoder layers\n",
        "        dropout: dropout rate\n",
        "    \"\"\"\n",
        "    def __init__(\n",
        "        self,\n",
        "        num_channels: int = 36,\n",
        "        window_size: int = 350,\n",
        "        d_model: int = 128,\n",
        "        nhead: int = 4,\n",
        "        num_layers: int = 3,\n",
        "        dim_feedforward: int = 512,\n",
        "        dropout: float = 0.1, # Increased from 0.1\n",
        "        max_windows: int = 200,\n",
        "    ):\n",
        "        super().__init__()\n",
        "        input_dim = num_channels * window_size\n",
        "\n",
        "        # 1) Linear projection of each window to d_model\n",
        "        self.input_proj = nn.Linear(input_dim, d_model)\n",
        "        self.input_norm = nn.LayerNorm(d_model) # Normalize\n",
        "\n",
        "        # 2) Positional encoding for up to max_windows\n",
        "        self.pos_enc = PositionalEncoding(d_model, max_len=max_windows)\n",
        "\n",
        "        # 3) Transformer encoder\n",
        "        encoder_layer = nn.TransformerEncoderLayer(\n",
        "            d_model=d_model,\n",
        "            nhead=nhead,\n",
        "            dim_feedforward=dim_feedforward,\n",
        "            dropout=dropout,\n",
        "            batch_first=True  # allows (batch, seq, feature)\n",
        "        )\n",
        "        self.transformer = nn.TransformerEncoder(encoder_layer, num_layers)\n",
        "\n",
        "        # 4) Regression head for arterial & venous SpO2\n",
        "        self.head = nn.Sequential(\n",
        "            nn.Linear(d_model, d_model // 2),\n",
        "            nn.ReLU(),\n",
        "            nn.Dropout(dropout),\n",
        "            nn.Linear(d_model // 2, 2)\n",
        "        )\n",
        "\n",
        "    def forward(self, x: torch.Tensor) -> torch.Tensor:\n",
        "        \"\"\"\n",
        "        Args:\n",
        "            x: Tensor of shape (batch_size, num_windows, num_channels, window_size)\n",
        "        Returns:\n",
        "            Tensor of shape (batch_size, 2) containing [SpO2_art, SpO2_ven]\n",
        "        \"\"\"\n",
        "        batch, num_windows, C, W = x.size()\n",
        "        # Flatten channels & time\n",
        "        x = x.contiguous().view(batch, num_windows, C * W)             # (batch, num_windows, input_dim)\n",
        "\n",
        "        # Embed\n",
        "        x = self.input_proj(x)                           # (batch, num_windows, d_model)\n",
        "\n",
        "        # Normalize\n",
        "        x = self.input_norm(x)\n",
        "\n",
        "        # Add positional encoding\n",
        "        x = self.pos_enc(x)                              # (batch, num_windows, d_model)\n",
        "\n",
        "        # Transformer encoding\n",
        "        x = self.transformer(x)                          # (batch, num_windows, d_model)\n",
        "\n",
        "        # Pool across time windows\n",
        "        rep = x.mean(dim=1)                              # (batch, d_model)\n",
        "\n",
        "        # Predict SpO2\n",
        "        out = self.head(rep)                             # (batch, 2)\n",
        "\n",
        "        return out"
      ]
    },
    {
      "cell_type": "markdown",
      "metadata": {
        "id": "USXvnJ2zuagH"
      },
      "source": [
        "Loading in data set from phantom setup."
      ]
    },
    {
      "cell_type": "code",
      "execution_count": 6,
      "metadata": {
        "id": "CvwTXMWBufVy"
      },
      "outputs": [],
      "source": [
        "def import_h5py(file_path):\n",
        "  with h5py.File(file_path, 'r') as f:\n",
        "      X = f['waveforms'][:]\n",
        "      y = f['labels'][:]\n",
        "\n",
        "      return X, y\n",
        "\n",
        "file_path = \"Shifting_Position_v3.3.h5\"\n",
        "combined_data, labels_array = import_h5py(file_path)"
      ]
    },
    {
      "cell_type": "markdown",
      "source": [
        "Block-wise Circular Shift for training"
      ],
      "metadata": {
        "id": "TfM6W5uQ2ZgF"
      }
    },
    {
      "cell_type": "code",
      "source": [
        "def shift_wavelength_blocks(X):\n",
        "    \"\"\"\n",
        "    Circularly shift the entire channel axis by a random multiple of 12,\n",
        "    so all 3 wavelength‐blocks move together.\n",
        "\n",
        "    X: Tensor of shape (B, 1, 36, T)\n",
        "    returns: Tensor of the same shape, channel‐axis rolled.\n",
        "    \"\"\"\n",
        "    B, W, C, T = X.shape\n",
        "    assert C == 36, \"Expect exactly 36 channels\"\n",
        "    block_size = 12\n",
        "    num_blocks = C // block_size  # =3\n",
        "\n",
        "    # pick k ∈ {0,1,2}\n",
        "    k = torch.randint(0, num_blocks, (1,)).item()\n",
        "    shift = k * block_size\n",
        "\n",
        "    # roll the whole channel dim by shift\n",
        "    return torch.roll(X, shifts=shift, dims=2)"
      ],
      "metadata": {
        "id": "DjII54nT2dS9"
      },
      "execution_count": 7,
      "outputs": []
    },
    {
      "cell_type": "markdown",
      "metadata": {
        "id": "m2g9qTNCxtxE"
      },
      "source": [
        "Splitting imported dataset into training and testing sets."
      ]
    },
    {
      "cell_type": "code",
      "execution_count": 11,
      "metadata": {
        "id": "HUn-ftNrx2qf"
      },
      "outputs": [],
      "source": [
        "X_all = torch.from_numpy(combined_data).float()\n",
        "X_all = X_all.permute(0, 2, 1).unsqueeze(1)  # → (N, 1, 36, 350)\n",
        "y_all = torch.from_numpy(labels_array).float()\n",
        "\n",
        "dataset = TensorDataset(X_all, y_all)\n",
        "\n",
        "N = len(dataset)\n",
        "n_train = int(0.7 * N)\n",
        "n_val   = int(0.15 * N)\n",
        "n_test  = N - n_train - n_val\n",
        "train_ds, val_ds, test_ds = random_split(dataset, [n_train, n_val, n_test])"
      ]
    },
    {
      "cell_type": "markdown",
      "metadata": {
        "id": "PwNol1BLyguH"
      },
      "source": [
        "Training CNN function. Setting epoch to 500 for now. Since channels of data have their own unique position, we add positional as well as wavelength embedding."
      ]
    },
    {
      "cell_type": "code",
      "execution_count": 12,
      "metadata": {
        "id": "w0hhMbqozGIN",
        "colab": {
          "base_uri": "https://localhost:8080/"
        },
        "outputId": "7f99084f-ec4f-4168-b472-83448d5030d6"
      },
      "outputs": [
        {
          "output_type": "stream",
          "name": "stdout",
          "text": [
            "Using device:cuda\n"
          ]
        }
      ],
      "source": [
        "save_path = 'vivoxTransformer.pth'\n",
        "\n",
        "# --- Hyperparameters & settings ---\n",
        "num_channels = 36\n",
        "window_size  = 350\n",
        "d_model      = 128\n",
        "batch_size   = 16\n",
        "lr           = 1e-4\n",
        "weight_decay = 5e-5\n",
        "num_epochs   = 1000\n",
        "\n",
        "device = torch.device('cuda' if torch.cuda.is_available() else 'cpu')\n",
        "print(\"Using device:\" + str(device))"
      ]
    },
    {
      "cell_type": "code",
      "source": [
        "# 3) DataLoaders\n",
        "batch_size = 16\n",
        "train_loader = DataLoader(train_ds, batch_size=batch_size, shuffle=True)\n",
        "val_loader   = DataLoader(val_ds,   batch_size=batch_size)\n",
        "test_loader  = DataLoader(test_ds,  batch_size=batch_size)"
      ],
      "metadata": {
        "id": "69iLiWg68W9s"
      },
      "execution_count": 13,
      "outputs": []
    },
    {
      "cell_type": "code",
      "execution_count": 23,
      "metadata": {
        "id": "OqyCrCHpT8DG",
        "colab": {
          "base_uri": "https://localhost:8080/"
        },
        "outputId": "dff5fdef-21eb-401d-c051-4806475c3fe0"
      },
      "outputs": [
        {
          "output_type": "stream",
          "name": "stderr",
          "text": [
            "/usr/local/lib/python3.11/dist-packages/torch/optim/lr_scheduler.py:62: UserWarning: The verbose parameter is deprecated. Please use get_last_lr() to access the learning rate.\n",
            "  warnings.warn(\n"
          ]
        }
      ],
      "source": [
        "# 4) Model Setup\n",
        "model = vivoxTransformer(\n",
        "            num_channels=num_channels,\n",
        "            window_size=window_size,\n",
        "            d_model=d_model\n",
        "        ).to(device)\n",
        "\n",
        "criterion = nn.L1Loss()\n",
        "optimizer = optim.AdamW(model.parameters(), lr=lr, weight_decay=weight_decay)\n",
        "scheduler = optim.lr_scheduler.ReduceLROnPlateau(optimizer,\n",
        "                                                 mode='min',\n",
        "                                                 factor=0.5,\n",
        "                                                 patience=5,\n",
        "                                                 verbose=True)"
      ]
    },
    {
      "cell_type": "code",
      "execution_count": 24,
      "metadata": {
        "colab": {
          "base_uri": "https://localhost:8080/"
        },
        "id": "8uii8lU0T-Dl",
        "outputId": "8c83d3b7-d427-4111-d84e-ee60d709c242"
      },
      "outputs": [
        {
          "output_type": "stream",
          "name": "stdout",
          "text": [
            "Starting Training Loop\n",
            "Epoch   1 \t| Train MSE 69.8962 \t| Val MSE 63.2510 ← new best\n",
            "Epoch   2 \t| Train MSE 52.0745 \t| Val MSE 39.1942 ← new best\n",
            "Epoch   3 \t| Train MSE 29.1774 \t| Val MSE 19.1577 ← new best\n",
            "Epoch   4 \t| Train MSE 11.7432 \t| Val MSE 6.5758 ← new best\n",
            "Epoch   5 \t| Train MSE 8.8566 \t| Val MSE 6.8220 (no improve 1/20)\n",
            "Epoch   6 \t| Train MSE 8.8241 \t| Val MSE 6.6692 (no improve 2/20)\n",
            "Epoch   7 \t| Train MSE 8.7062 \t| Val MSE 6.8372 (no improve 3/20)\n",
            "Epoch   8 \t| Train MSE 8.4735 \t| Val MSE 6.9622 (no improve 4/20)\n",
            "Epoch   9 \t| Train MSE 8.0032 \t| Val MSE 6.0146 ← new best\n",
            "Epoch  10 \t| Train MSE 6.4483 \t| Val MSE 3.8835 ← new best\n",
            "Epoch  11 \t| Train MSE 5.4855 \t| Val MSE 3.2448 ← new best\n",
            "Epoch  12 \t| Train MSE 5.1298 \t| Val MSE 2.8352 ← new best\n",
            "Epoch  13 \t| Train MSE 4.6961 \t| Val MSE 2.4800 ← new best\n",
            "Epoch  14 \t| Train MSE 4.5455 \t| Val MSE 2.1659 ← new best\n",
            "Epoch  15 \t| Train MSE 4.4564 \t| Val MSE 2.0496 ← new best\n",
            "Epoch  16 \t| Train MSE 4.3751 \t| Val MSE 1.7701 ← new best\n",
            "Epoch  17 \t| Train MSE 4.3572 \t| Val MSE 1.7785 (no improve 1/20)\n",
            "Epoch  18 \t| Train MSE 4.2414 \t| Val MSE 1.4755 ← new best\n",
            "Epoch  19 \t| Train MSE 4.2639 \t| Val MSE 1.5153 (no improve 1/20)\n",
            "Epoch  20 \t| Train MSE 4.1927 \t| Val MSE 1.4676 ← new best\n",
            "Epoch  21 \t| Train MSE 4.1571 \t| Val MSE 1.7038 (no improve 1/20)\n",
            "Epoch  22 \t| Train MSE 4.1737 \t| Val MSE 1.5580 (no improve 2/20)\n",
            "Epoch  23 \t| Train MSE 4.0787 \t| Val MSE 1.9262 (no improve 3/20)\n",
            "Epoch  24 \t| Train MSE 4.1506 \t| Val MSE 1.4163 ← new best\n",
            "Epoch  25 \t| Train MSE 4.0761 \t| Val MSE 1.4852 (no improve 1/20)\n",
            "Epoch  26 \t| Train MSE 4.0189 \t| Val MSE 1.6380 (no improve 2/20)\n",
            "Epoch  27 \t| Train MSE 4.0136 \t| Val MSE 1.3249 ← new best\n",
            "Epoch  28 \t| Train MSE 4.0131 \t| Val MSE 1.2328 ← new best\n",
            "Epoch  29 \t| Train MSE 4.0087 \t| Val MSE 1.3943 (no improve 1/20)\n",
            "Epoch  30 \t| Train MSE 3.9828 \t| Val MSE 1.3402 (no improve 2/20)\n",
            "Epoch  31 \t| Train MSE 3.9884 \t| Val MSE 1.2839 (no improve 3/20)\n",
            "Epoch  32 \t| Train MSE 3.9604 \t| Val MSE 1.0753 ← new best\n",
            "Epoch  33 \t| Train MSE 3.9139 \t| Val MSE 1.4534 (no improve 1/20)\n",
            "Epoch  34 \t| Train MSE 3.8773 \t| Val MSE 1.2194 (no improve 2/20)\n",
            "Epoch  35 \t| Train MSE 3.9190 \t| Val MSE 1.1225 (no improve 3/20)\n",
            "Epoch  36 \t| Train MSE 3.8451 \t| Val MSE 1.1690 (no improve 4/20)\n",
            "Epoch  37 \t| Train MSE 3.9506 \t| Val MSE 1.4859 (no improve 5/20)\n",
            "Epoch  38 \t| Train MSE 3.8618 \t| Val MSE 1.3855 (no improve 6/20)\n",
            "Epoch  39 \t| Train MSE 3.8284 \t| Val MSE 1.0772 (no improve 7/20)\n",
            "Epoch  40 \t| Train MSE 3.8645 \t| Val MSE 1.2149 (no improve 8/20)\n",
            "Epoch  41 \t| Train MSE 3.7290 \t| Val MSE 1.0450 ← new best\n",
            "Epoch  42 \t| Train MSE 3.7386 \t| Val MSE 0.9490 ← new best\n",
            "Epoch  43 \t| Train MSE 3.7370 \t| Val MSE 0.8691 ← new best\n",
            "Epoch  44 \t| Train MSE 3.7142 \t| Val MSE 1.0672 (no improve 1/20)\n",
            "Epoch  45 \t| Train MSE 3.7195 \t| Val MSE 0.9034 (no improve 2/20)\n",
            "Epoch  46 \t| Train MSE 3.6684 \t| Val MSE 0.8662 ← new best\n",
            "Epoch  47 \t| Train MSE 3.7382 \t| Val MSE 1.0016 (no improve 1/20)\n",
            "Epoch  48 \t| Train MSE 3.6574 \t| Val MSE 0.7732 ← new best\n",
            "Epoch  49 \t| Train MSE 3.7523 \t| Val MSE 1.0002 (no improve 1/20)\n",
            "Epoch  50 \t| Train MSE 3.7309 \t| Val MSE 0.8836 (no improve 2/20)\n",
            "Epoch  51 \t| Train MSE 3.6800 \t| Val MSE 0.9317 (no improve 3/20)\n",
            "Epoch  52 \t| Train MSE 3.7007 \t| Val MSE 0.9114 (no improve 4/20)\n",
            "Epoch  53 \t| Train MSE 3.7287 \t| Val MSE 0.8273 (no improve 5/20)\n",
            "Epoch  54 \t| Train MSE 3.5902 \t| Val MSE 1.0895 (no improve 6/20)\n",
            "Epoch  55 \t| Train MSE 3.6353 \t| Val MSE 0.7960 (no improve 7/20)\n",
            "Epoch  56 \t| Train MSE 3.6010 \t| Val MSE 0.8329 (no improve 8/20)\n",
            "Epoch  57 \t| Train MSE 3.6170 \t| Val MSE 0.7165 ← new best\n",
            "Epoch  58 \t| Train MSE 3.6057 \t| Val MSE 0.7211 (no improve 1/20)\n",
            "Epoch  59 \t| Train MSE 3.6478 \t| Val MSE 0.7997 (no improve 2/20)\n",
            "Epoch  60 \t| Train MSE 3.6113 \t| Val MSE 0.7220 (no improve 3/20)\n",
            "Epoch  61 \t| Train MSE 3.5767 \t| Val MSE 0.6933 ← new best\n",
            "Epoch  62 \t| Train MSE 3.5025 \t| Val MSE 0.6637 ← new best\n",
            "Epoch  63 \t| Train MSE 3.5877 \t| Val MSE 0.6229 ← new best\n",
            "Epoch  64 \t| Train MSE 3.5894 \t| Val MSE 0.7470 (no improve 1/20)\n",
            "Epoch  65 \t| Train MSE 3.5738 \t| Val MSE 0.6842 (no improve 2/20)\n",
            "Epoch  66 \t| Train MSE 3.5987 \t| Val MSE 0.9240 (no improve 3/20)\n",
            "Epoch  67 \t| Train MSE 3.5636 \t| Val MSE 0.7178 (no improve 4/20)\n",
            "Epoch  68 \t| Train MSE 3.6075 \t| Val MSE 0.9124 (no improve 5/20)\n",
            "Epoch  69 \t| Train MSE 3.5277 \t| Val MSE 0.6212 ← new best\n",
            "Epoch  70 \t| Train MSE 3.5505 \t| Val MSE 0.6017 ← new best\n",
            "Epoch  71 \t| Train MSE 3.5589 \t| Val MSE 0.8272 (no improve 1/20)\n",
            "Epoch  72 \t| Train MSE 3.5182 \t| Val MSE 0.9510 (no improve 2/20)\n",
            "Epoch  73 \t| Train MSE 3.5915 \t| Val MSE 0.6300 (no improve 3/20)\n",
            "Epoch  74 \t| Train MSE 3.5969 \t| Val MSE 0.6388 (no improve 4/20)\n",
            "Epoch  75 \t| Train MSE 3.5192 \t| Val MSE 0.8350 (no improve 5/20)\n",
            "Epoch  76 \t| Train MSE 3.4885 \t| Val MSE 0.6354 (no improve 6/20)\n",
            "Epoch  77 \t| Train MSE 3.5352 \t| Val MSE 0.6796 (no improve 7/20)\n",
            "Epoch  78 \t| Train MSE 3.4773 \t| Val MSE 0.5281 ← new best\n",
            "Epoch  79 \t| Train MSE 3.4978 \t| Val MSE 0.5065 ← new best\n",
            "Epoch  80 \t| Train MSE 3.5846 \t| Val MSE 0.5844 (no improve 1/20)\n",
            "Epoch  81 \t| Train MSE 3.5244 \t| Val MSE 0.5504 (no improve 2/20)\n",
            "Epoch  82 \t| Train MSE 3.4491 \t| Val MSE 0.5354 (no improve 3/20)\n",
            "Epoch  83 \t| Train MSE 3.4768 \t| Val MSE 0.5355 (no improve 4/20)\n",
            "Epoch  84 \t| Train MSE 3.4487 \t| Val MSE 0.7512 (no improve 5/20)\n",
            "Epoch  85 \t| Train MSE 3.4716 \t| Val MSE 0.5173 (no improve 6/20)\n",
            "Epoch  86 \t| Train MSE 3.4992 \t| Val MSE 0.5952 (no improve 7/20)\n",
            "Epoch  87 \t| Train MSE 3.4946 \t| Val MSE 0.5685 (no improve 8/20)\n",
            "Epoch  88 \t| Train MSE 3.3688 \t| Val MSE 0.5106 (no improve 9/20)\n",
            "Epoch  89 \t| Train MSE 3.4724 \t| Val MSE 0.5489 (no improve 10/20)\n",
            "Epoch  90 \t| Train MSE 3.4927 \t| Val MSE 0.5402 (no improve 11/20)\n",
            "Epoch  91 \t| Train MSE 3.4022 \t| Val MSE 0.4844 ← new best\n",
            "Epoch  92 \t| Train MSE 3.4745 \t| Val MSE 0.6037 (no improve 1/20)\n",
            "Epoch  93 \t| Train MSE 3.4803 \t| Val MSE 0.6116 (no improve 2/20)\n",
            "Epoch  94 \t| Train MSE 3.4673 \t| Val MSE 0.5570 (no improve 3/20)\n",
            "Epoch  95 \t| Train MSE 3.5068 \t| Val MSE 0.6056 (no improve 4/20)\n",
            "Epoch  96 \t| Train MSE 3.4825 \t| Val MSE 0.5461 (no improve 5/20)\n",
            "Epoch  97 \t| Train MSE 3.4550 \t| Val MSE 0.5661 (no improve 6/20)\n",
            "Epoch  98 \t| Train MSE 3.4700 \t| Val MSE 0.5963 (no improve 7/20)\n",
            "Epoch  99 \t| Train MSE 3.4771 \t| Val MSE 0.5008 (no improve 8/20)\n",
            "Epoch 100 \t| Train MSE 3.4442 \t| Val MSE 0.5192 (no improve 9/20)\n",
            "Epoch 101 \t| Train MSE 3.4748 \t| Val MSE 0.5771 (no improve 10/20)\n",
            "Epoch 102 \t| Train MSE 3.4333 \t| Val MSE 0.5729 (no improve 11/20)\n",
            "Epoch 103 \t| Train MSE 3.4526 \t| Val MSE 0.5137 (no improve 12/20)\n",
            "Epoch 104 \t| Train MSE 3.4535 \t| Val MSE 0.5029 (no improve 13/20)\n",
            "Epoch 105 \t| Train MSE 3.5349 \t| Val MSE 0.5102 (no improve 14/20)\n",
            "Epoch 106 \t| Train MSE 3.4666 \t| Val MSE 0.5239 (no improve 15/20)\n",
            "Epoch 107 \t| Train MSE 3.4772 \t| Val MSE 0.4818 ← new best\n",
            "Epoch 108 \t| Train MSE 3.4509 \t| Val MSE 0.4882 (no improve 1/20)\n",
            "Epoch 109 \t| Train MSE 3.4032 \t| Val MSE 0.5026 (no improve 2/20)\n",
            "Epoch 110 \t| Train MSE 3.4334 \t| Val MSE 0.4886 (no improve 3/20)\n",
            "Epoch 111 \t| Train MSE 3.4318 \t| Val MSE 0.4801 ← new best\n",
            "Epoch 112 \t| Train MSE 3.4013 \t| Val MSE 0.4971 (no improve 1/20)\n",
            "Epoch 113 \t| Train MSE 3.4875 \t| Val MSE 0.5419 (no improve 2/20)\n",
            "Epoch 114 \t| Train MSE 3.4644 \t| Val MSE 0.5303 (no improve 3/20)\n",
            "Epoch 115 \t| Train MSE 3.4197 \t| Val MSE 0.5198 (no improve 4/20)\n",
            "Epoch 116 \t| Train MSE 3.4292 \t| Val MSE 0.5153 (no improve 5/20)\n",
            "Epoch 117 \t| Train MSE 3.5134 \t| Val MSE 0.5135 (no improve 6/20)\n",
            "Epoch 118 \t| Train MSE 3.4420 \t| Val MSE 0.5050 (no improve 7/20)\n",
            "Epoch 119 \t| Train MSE 3.4832 \t| Val MSE 0.5043 (no improve 8/20)\n",
            "Epoch 120 \t| Train MSE 3.4255 \t| Val MSE 0.4948 (no improve 9/20)\n",
            "Epoch 121 \t| Train MSE 3.4910 \t| Val MSE 0.4985 (no improve 10/20)\n",
            "Epoch 122 \t| Train MSE 3.4465 \t| Val MSE 0.5080 (no improve 11/20)\n",
            "Epoch 123 \t| Train MSE 3.4279 \t| Val MSE 0.4917 (no improve 12/20)\n",
            "Epoch 124 \t| Train MSE 3.4891 \t| Val MSE 0.4932 (no improve 13/20)\n",
            "Epoch 125 \t| Train MSE 3.4557 \t| Val MSE 0.4950 (no improve 14/20)\n",
            "Epoch 126 \t| Train MSE 3.4015 \t| Val MSE 0.5005 (no improve 15/20)\n",
            "Epoch 127 \t| Train MSE 3.4002 \t| Val MSE 0.4977 (no improve 16/20)\n",
            "Epoch 128 \t| Train MSE 3.4257 \t| Val MSE 0.4941 (no improve 17/20)\n",
            "Epoch 129 \t| Train MSE 3.3802 \t| Val MSE 0.4903 (no improve 18/20)\n",
            "Epoch 130 \t| Train MSE 3.4281 \t| Val MSE 0.4927 (no improve 19/20)\n",
            "Stopping early at epoch 131\n",
            "Training complete. Best val loss: 0.4800703023935293\n"
          ]
        }
      ],
      "source": [
        "best_val_loss = float('inf')\n",
        "patience, no_improve = 20, 0\n",
        "\n",
        "print('Starting Training Loop')\n",
        "\n",
        "# 5) Training loop with device‐moves\n",
        "for epoch in range(1, num_epochs + 1):\n",
        "    # -- Train --\n",
        "    model.train()\n",
        "    train_loss = 0.0\n",
        "    for Xb, yb in train_loader:\n",
        "\n",
        "        Xb = shift_wavelength_blocks(Xb)\n",
        "        Xb, yb = Xb.to(device), yb.to(device)    # Xb is (batch, 1, 36, 350)\n",
        "\n",
        "        preds  = model(Xb)                      # no more unpacking error\n",
        "        loss   = criterion(preds, yb)\n",
        "\n",
        "        optimizer.zero_grad()\n",
        "        loss.backward()\n",
        "        optimizer.step()\n",
        "\n",
        "        train_loss += loss.item() * Xb.size(0)\n",
        "    train_loss /= len(train_loader.dataset)\n",
        "\n",
        "    # -- Evaluate --\n",
        "    model.eval()\n",
        "    val_loss = 0.0\n",
        "    with torch.no_grad():\n",
        "        for Xb, yb in val_loader:\n",
        "            Xb, yb = Xb.to(device), yb.to(device)\n",
        "            val_loss += criterion(model(Xb), yb).item() * Xb.size(0)\n",
        "    val_loss /= len(val_loader.dataset)\n",
        "\n",
        "    # -- Scheduler --\n",
        "    scheduler.step(val_loss)\n",
        "    if val_loss < best_val_loss:\n",
        "        best_val_loss = val_loss\n",
        "        no_improve = 0\n",
        "        torch.save(model.state_dict(), 'v1_vivoX.pth')\n",
        "        status = '← new best'\n",
        "    else:\n",
        "        no_improve += 1\n",
        "        status = f'(no improve {no_improve}/{patience})'\n",
        "        if no_improve >= patience:\n",
        "            print(f\"Stopping early at epoch {epoch}\")\n",
        "            break\n",
        "\n",
        "    print(f\"Epoch {epoch:3d} \\t| Train MAE {train_loss:.4f} \\t| Val MAE {val_loss:.4f} {status}\")\n",
        "\n",
        "\n",
        "print(\"Training complete. Best val loss:\", best_val_loss)"
      ]
    },
    {
      "cell_type": "markdown",
      "source": [
        "Final test evaluation"
      ],
      "metadata": {
        "id": "i_tj_K_v4xpw"
      }
    },
    {
      "cell_type": "code",
      "source": [
        "model.load_state_dict(torch.load('v1_vivoX.pth', map_location=device))\n",
        "model.eval()\n",
        "test_loss = 0.0\n",
        "with torch.no_grad():\n",
        "    for Xb, yb in test_loader:\n",
        "        Xb, yb = Xb.to(device), yb.to(device)\n",
        "        test_loss += criterion(model(Xb), yb).item() * Xb.size(0)\n",
        "    test_loss /= len(test_loader.dataset)\n",
        "print(f\"\\nFinal Test MAE: {test_loss:.4f}\")"
      ],
      "metadata": {
        "colab": {
          "base_uri": "https://localhost:8080/"
        },
        "id": "fkfdBxyQ40yr",
        "outputId": "79472d93-707b-4030-c07e-d887f722b09f"
      },
      "execution_count": 25,
      "outputs": [
        {
          "output_type": "stream",
          "name": "stdout",
          "text": [
            "\n",
            "Final Test MAE: 0.4510\n"
          ]
        }
      ]
    },
    {
      "cell_type": "markdown",
      "source": [
        "Visualizing the channel embeddings"
      ],
      "metadata": {
        "id": "-jToVdHRtoag"
      }
    },
    {
      "cell_type": "code",
      "source": [
        "W = model.input_proj.weight.data.cpu().numpy()\n",
        "\n",
        "num_channels = 36\n",
        "window_size  = 350\n",
        "d_model       = W.shape[0]\n",
        "\n",
        "channel_embs = np.zeros((num_channels, d_model))\n",
        "for c in range(num_channels):\n",
        "    start = c*window_size\n",
        "    end   = (c+1)*window_size\n",
        "    block = W[:, start:end]           # shape (d_model, window_size)\n",
        "    channel_embs[c] = block.mean(1)   # now (d_model,)"
      ],
      "metadata": {
        "id": "piGM9xYptnsE"
      },
      "execution_count": 26,
      "outputs": []
    },
    {
      "cell_type": "markdown",
      "source": [
        "Computer pairwise similarities"
      ],
      "metadata": {
        "id": "7SDEAJVntxG8"
      }
    },
    {
      "cell_type": "code",
      "source": [
        "from sklearn.metrics.pairwise import cosine_similarity\n",
        "\n",
        "sim_matrix = cosine_similarity(channel_embs)  # shape (36,36)"
      ],
      "metadata": {
        "id": "X8cwQtqStvBe"
      },
      "execution_count": 27,
      "outputs": []
    },
    {
      "cell_type": "markdown",
      "source": [
        "Visualization of embedding similarities"
      ],
      "metadata": {
        "id": "L_KUeZ4ut2mC"
      }
    },
    {
      "cell_type": "code",
      "source": [
        "import matplotlib.pyplot as plt\n",
        "\n",
        "plt.figure(figsize=(6,5))\n",
        "plt.imshow(sim_matrix, aspect='equal')\n",
        "plt.colorbar(label='Cosine similarity')\n",
        "plt.xlabel('Channel index')\n",
        "plt.ylabel('Channel index')\n",
        "plt.title('Learned channel embedding similarities')\n",
        "plt.tight_layout()\n",
        "plt.show()"
      ],
      "metadata": {
        "id": "_n89Ez84tz2X",
        "colab": {
          "base_uri": "https://localhost:8080/",
          "height": 511
        },
        "outputId": "d4aef849-856d-4c1b-bcf7-6798360e5189"
      },
      "execution_count": 20,
      "outputs": [
        {
          "output_type": "display_data",
          "data": {
            "text/plain": [
              "<Figure size 600x500 with 2 Axes>"
            ],
            "image/png": "[encoded data removed]"
          },
          "metadata": {}
        }
      ]
    }
  ],
  "metadata": {
    "accelerator": "GPU",
    "colab": {
      "gpuType": "T4",
      "provenance": [],
      "include_colab_link": true
    },
    "kernelspec": {
      "display_name": "Python 3",
      "name": "python3"
    },
    "language_info": {
      "name": "python"
    }
  },
  "nbformat": 4,
  "nbformat_minor": 0
}