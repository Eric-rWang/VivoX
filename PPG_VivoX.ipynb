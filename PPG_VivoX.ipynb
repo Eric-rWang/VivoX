{
  "cells": [
    {
      "cell_type": "markdown",
      "metadata": {
        "id": "view-in-github",
        "colab_type": "text"
      },
      "source": [
        "<a href=\"https://colab.research.google.com/github/Eric-rWang/VivoX/blob/main/PPG_VivoX.ipynb\" target=\"_parent\"><img src=\"https://colab.research.google.com/assets/colab-badge.svg\" alt=\"Open In Colab\"/></a>"
      ]
    },
    {
      "cell_type": "code",
      "execution_count": 4,
      "metadata": {
        "colab": {
          "base_uri": "https://localhost:8080/"
        },
        "id": "9PNnmqXCt43U",
        "outputId": "a29384be-2e87-48d8-f3e1-acb8516908f2"
      },
      "outputs": [
        {
          "output_type": "stream",
          "name": "stdout",
          "text": [
            "/content/PPG ML\n"
          ]
        }
      ],
      "source": [
        "import os\n",
        "import h5py\n",
        "\n",
        "import torch\n",
        "import torch.nn as nn\n",
        "import numpy as np\n",
        "import pandas as pd\n",
        "import math\n",
        "\n",
        "from sklearn.model_selection import train_test_split\n",
        "from torch.utils.data import TensorDataset, DataLoader\n",
        "import torch.optim as optim\n",
        "\n",
        "os.chdir(\"/content/PPG ML\")\n",
        "print(os.getcwd())"
      ]
    },
    {
      "cell_type": "markdown",
      "metadata": {
        "id": "0U9WdLqoS3XT"
      },
      "source": [
        "VivoX transformer model:\n",
        "<ul>\n",
        "<li>Linear projection from flattened window inputs to d_model</li>\n",
        "<li>Sinusoidal positional encodings</li>\n",
        "<li>Standard encoder stack</li>\n",
        "<li>Mean pooling and MLP head for arterial and venous regression</li>\n",
        "</ul>"
      ]
    },
    {
      "cell_type": "code",
      "execution_count": 5,
      "metadata": {
        "id": "MXdPytBLS2O2"
      },
      "outputs": [],
      "source": [
        "class PositionalEncoding(nn.Module):\n",
        "    \"\"\"\n",
        "    Implements sinusoidal positional encoding.\n",
        "    \"\"\"\n",
        "    def __init__(self, d_model: int, max_len: int = 5000):\n",
        "        super().__init__()\n",
        "        pe = torch.zeros(max_len, d_model)\n",
        "        position = torch.arange(0, max_len, dtype=torch.float).unsqueeze(1)\n",
        "        div_term = torch.exp(torch.arange(0, d_model, 2).float() *\n",
        "                             (-math.log(10000.0) / d_model))\n",
        "        pe[:, 0::2] = torch.sin(position * div_term)\n",
        "        pe[:, 1::2] = torch.cos(position * div_term)\n",
        "        pe = pe.unsqueeze(0)  # shape (1, max_len, d_model)\n",
        "        self.register_buffer('pe', pe)\n",
        "\n",
        "    def forward(self, x: torch.Tensor) -> torch.Tensor:\n",
        "        \"\"\"\n",
        "        Args:\n",
        "            x: Tensor of shape (batch_size, seq_len, d_model)\n",
        "        Returns:\n",
        "            Tensor: (batch_size, seq_len, d_model) with positional encoding added\n",
        "        \"\"\"\n",
        "        x = x + self.pe[:, :x.size(1), :]\n",
        "        return x\n",
        "\n",
        "\n",
        "class vivoxTransformer(nn.Module):\n",
        "    \"\"\"\n",
        "    Simple Transformer model for arterial & venous SpO2 prediction from multichannel PPG.\n",
        "\n",
        "    Args:\n",
        "        num_channels: number of input channels (e.g., 36)\n",
        "        window_size: number of time samples per window (e.g., 350)\n",
        "        d_model: embedding dimension\n",
        "        nhead: number of attention heads\n",
        "        num_layers: number of Transformer encoder layers\n",
        "        dim_feedforward: dimension of the MLP in encoder layers\n",
        "        dropout: dropout rate\n",
        "    \"\"\"\n",
        "    def __init__(\n",
        "        self,\n",
        "        num_channels: int = 36,\n",
        "        window_size: int = 350,\n",
        "        d_model: int = 128,\n",
        "        nhead: int = 4,\n",
        "        num_layers: int = 3,\n",
        "        dim_feedforward: int = 512,\n",
        "        dropout: float = 0.1, # Increased from 0.1\n",
        "        max_windows: int = 200,\n",
        "    ):\n",
        "        super().__init__()\n",
        "        input_dim = num_channels * window_size\n",
        "\n",
        "        # 1) Linear projection of each window to d_model\n",
        "        self.input_proj = nn.Linear(input_dim, d_model)\n",
        "        # self.input_norm = nn.LayerNorm(d_model) # Normalize\n",
        "\n",
        "        # 2) Positional encoding for up to max_windows\n",
        "        self.pos_enc = PositionalEncoding(d_model, max_len=max_windows)\n",
        "\n",
        "        # 3) Transformer encoder\n",
        "        encoder_layer = nn.TransformerEncoderLayer(\n",
        "            d_model=d_model,\n",
        "            nhead=nhead,\n",
        "            dim_feedforward=dim_feedforward,\n",
        "            dropout=dropout,\n",
        "            batch_first=True  # allows (batch, seq, feature)\n",
        "        )\n",
        "        self.transformer = nn.TransformerEncoder(encoder_layer, num_layers)\n",
        "\n",
        "        # 4) Regression head for arterial & venous SpO2\n",
        "        self.head = nn.Sequential(\n",
        "            nn.Linear(d_model, d_model // 2),\n",
        "            nn.ReLU(),\n",
        "            # nn.Dropout(dropout),\n",
        "            nn.Linear(d_model // 2, 2)\n",
        "        )\n",
        "\n",
        "    def forward(self, x: torch.Tensor) -> torch.Tensor:\n",
        "        \"\"\"\n",
        "        Args:\n",
        "            x: Tensor of shape (batch_size, num_windows, num_channels, window_size)\n",
        "        Returns:\n",
        "            Tensor of shape (batch_size, 2) containing [SpO2_art, SpO2_ven]\n",
        "        \"\"\"\n",
        "        batch, num_windows, C, W = x.size()\n",
        "        # Flatten channels & time\n",
        "        x = x.view(batch, num_windows, C * W)             # (batch, num_windows, input_dim)\n",
        "\n",
        "        # Embed\n",
        "        x = self.input_proj(x)                           # (batch, num_windows, d_model)\n",
        "\n",
        "        # Normalize\n",
        "        # x = self.input_norm(x)\n",
        "\n",
        "        # Add positional encoding\n",
        "        x = self.pos_enc(x)                              # (batch, num_windows, d_model)\n",
        "\n",
        "        # Transformer encoding\n",
        "        x = self.transformer(x)                          # (batch, num_windows, d_model)\n",
        "\n",
        "        # Pool across time windows\n",
        "        rep = x.mean(dim=1)                              # (batch, d_model)\n",
        "\n",
        "        # Predict SpO2\n",
        "        out = self.head(rep)                             # (batch, 2)\n",
        "\n",
        "        return out"
      ]
    },
    {
      "cell_type": "markdown",
      "metadata": {
        "id": "USXvnJ2zuagH"
      },
      "source": [
        "Loading in data set from phantom setup."
      ]
    },
    {
      "cell_type": "code",
      "execution_count": 6,
      "metadata": {
        "id": "CvwTXMWBufVy"
      },
      "outputs": [],
      "source": [
        "def import_h5py(file_path):\n",
        "  with h5py.File(file_path, 'r') as f:\n",
        "      X = f['waveforms'][:]\n",
        "      y = f['labels'][:]\n",
        "\n",
        "      return X, y\n",
        "\n",
        "file_path = \"Shifting_Position_2.h5\"\n",
        "combined_data, labels_array = import_h5py(file_path)"
      ]
    },
    {
      "cell_type": "markdown",
      "metadata": {
        "id": "m2g9qTNCxtxE"
      },
      "source": [
        "Splitting imported dataset into training and testing sets."
      ]
    },
    {
      "cell_type": "code",
      "execution_count": 7,
      "metadata": {
        "colab": {
          "base_uri": "https://localhost:8080/"
        },
        "id": "HUn-ftNrx2qf",
        "outputId": "37a5b50f-5efe-420b-f884-ee07dc3ff9b8"
      },
      "outputs": [
        {
          "output_type": "stream",
          "name": "stdout",
          "text": [
            "X_train shape: (2126, 350, 36)\n",
            "X_test  shape: (532, 350, 36)\n"
          ]
        }
      ],
      "source": [
        "labels_df = pd.DataFrame(\n",
        "        labels_array,\n",
        "        columns=['arterial_saturation', 'venous_saturation']\n",
        ")\n",
        "\n",
        "# Split into training and test sets (80% train, 20% test)\n",
        "X_train, X_test, y_train, y_test = train_test_split(\n",
        "    combined_data, labels_array, test_size=0.2, random_state=42\n",
        ")\n",
        "\n",
        "# Print out shape of train and test data\n",
        "print(\"X_train shape:\", X_train.shape)\n",
        "print(\"X_test  shape:\", X_test.shape)"
      ]
    },
    {
      "cell_type": "markdown",
      "metadata": {
        "id": "PwNol1BLyguH"
      },
      "source": [
        "Training CNN function. Setting epoch to 500 for now. Since channels of data have their own unique position, we add positional as well as wavelength embedding."
      ]
    },
    {
      "cell_type": "code",
      "execution_count": 8,
      "metadata": {
        "id": "w0hhMbqozGIN"
      },
      "outputs": [],
      "source": [
        "save_path = 'vivoxTransformer_2.pth'\n",
        "\n",
        "# --- Hyperparameters & settings ---\n",
        "num_channels = 36\n",
        "window_size  = 350\n",
        "d_model      = 128\n",
        "batch_size   = 16\n",
        "lr           = 1e-4\n",
        "weight_decay = 5e-5\n",
        "num_epochs   = 250\n",
        "\n",
        "device = torch.device('cuda' if torch.cuda.is_available() else 'cpu')"
      ]
    },
    {
      "cell_type": "code",
      "source": [
        "# 1) Convert NumPy to torch tensors (no permute needed; model expects (B, T, C))\n",
        "X_train_t = torch.from_numpy(X_train).float()\n",
        "y_train_t = torch.from_numpy(y_train).float()\n",
        "X_test_t  = torch.from_numpy(X_test).float()\n",
        "y_test_t  = torch.from_numpy(y_test).float()\n",
        "\n",
        "# 2) permute & unsqueeze so each sample is (1 window, 36 channels, 350 timesteps)\n",
        "#    result: (N, 1, 36, 350)\n",
        "X_train_rs = X_train_t.permute(0, 2, 1).unsqueeze(1)\n",
        "X_test_rs  = X_test_t .permute(0, 2, 1).unsqueeze(1)\n",
        "# assuming X_train_rs is (N,1,36,350)\n",
        "mean = X_train_rs.mean(dim=(0,1,3), keepdim=True)  # per-channel mean\n",
        "std  =  X_train_rs.std(dim=(0,1,3), keepdim=True)  # per-channel std\n",
        "X_train_rs = (X_train_rs - mean) / (std + 1e-6)\n",
        "X_test_rs  = (X_test_rs  - mean) / (std + 1e-6)\n",
        "\n",
        "# 3) DataLoaders\n",
        "train_loader = DataLoader(TensorDataset(X_train_rs, y_train_t),\n",
        "                          batch_size=batch_size, shuffle=True)\n",
        "test_loader  = DataLoader(TensorDataset(X_test_rs,  y_test_t),\n",
        "                          batch_size=batch_size)"
      ],
      "metadata": {
        "id": "69iLiWg68W9s"
      },
      "execution_count": 9,
      "outputs": []
    },
    {
      "cell_type": "code",
      "execution_count": 10,
      "metadata": {
        "id": "OqyCrCHpT8DG"
      },
      "outputs": [],
      "source": [
        "# 2) Model Setup\n",
        "model = vivoxTransformer(\n",
        "            num_channels=num_channels,\n",
        "            window_size=window_size,\n",
        "            d_model=d_model\n",
        "        ).to(device)\n",
        "\n",
        "criterion = nn.MSELoss()\n",
        "optimizer = optim.Adam(model.parameters(), lr=lr, weight_decay=weight_decay)"
      ]
    },
    {
      "cell_type": "code",
      "execution_count": 11,
      "metadata": {
        "colab": {
          "base_uri": "https://localhost:8080/"
        },
        "id": "8uii8lU0T-Dl",
        "outputId": "087d04cf-3f9c-4a71-a327-c95ea0058416"
      },
      "outputs": [
        {
          "output_type": "stream",
          "name": "stdout",
          "text": [
            "Starting Training Loop\n",
            "Epoch   1: Train 3129.4812, Test 2886.0058 → saved best\n",
            "Epoch   2: Train 2614.4900, Test 2278.0887 → saved best\n",
            "Epoch   3: Train 1949.1603, Test 1578.0049 → saved best\n",
            "Epoch   4: Train 1278.7579, Test 959.3598 → saved best\n",
            "Epoch   5: Train 740.7799, Test 519.2253 → saved best\n",
            "Epoch   6: Train 385.6335, Test 253.9777 → saved best\n",
            "Epoch   7: Train 188.7915, Test 127.7717 → saved best\n",
            "Epoch   8: Train 105.7453, Test 85.6460 → saved best\n",
            "Epoch   9: Train 81.1354, Test 76.5727 → saved best\n",
            "Epoch  10: Train 75.8926, Test 75.3071 → saved best\n",
            "Epoch  11: Train 74.6769, Test 71.8521 → saved best\n",
            "Epoch  12: Train 63.4073, Test 49.6339 → saved best\n",
            "Epoch  13: Train 35.2264, Test 24.0171 → saved best\n",
            "Epoch  14: Train 20.3195, Test 15.8442 → saved best\n",
            "Epoch  15: Train 17.4971, Test 15.6791 → saved best\n",
            "Epoch  16: Train 16.7551, Test 14.8292 → saved best\n",
            "Epoch  17: Train 16.0750, Test 14.2729 → saved best\n",
            "Epoch  18: Train 15.4051, Test 13.6447 → saved best\n",
            "Epoch  19: Train 14.6944, Test 12.4016 → saved best\n",
            "Epoch  20: Train 13.1525, Test 10.4272 → saved best\n",
            "Epoch  21: Train 11.4614, Test 9.7143 → saved best\n",
            "Epoch  22: Train 10.4605, Test 8.1193 → saved best\n",
            "Epoch  23: Train 9.6814, Test 7.3471 → saved best\n",
            "Epoch  24: Train 9.1672, Test 6.9511 → saved best\n",
            "Epoch  25: Train 8.7448, Test 6.9484 → saved best\n",
            "Epoch  26: Train 8.3435, Test 6.6270 → saved best\n",
            "Epoch  27: Train 8.1608, Test 6.7292 → saved best\n",
            "Epoch  28: Train 8.0337, Test 6.5733 → saved best\n",
            "Epoch  29: Train 7.8982, Test 6.5801 → saved best\n",
            "Epoch  30: Train 7.8031, Test 6.3528 → saved best\n",
            "Epoch  31: Train 7.6677, Test 6.1837 → saved best\n",
            "Epoch  32: Train 7.3190, Test 5.8801 → saved best\n",
            "Epoch  33: Train 6.8053, Test 5.4315 → saved best\n",
            "Epoch  34: Train 6.3586, Test 5.4624 → saved best\n",
            "Epoch  35: Train 7.1125, Test 34.1120 \n",
            "Epoch  36: Train 16.6341, Test 24.1638 \n",
            "Epoch  37: Train 10.9977, Test 10.7005 \n",
            "Epoch  38: Train 5.2539, Test 4.9831 → saved best\n",
            "Epoch  39: Train 4.1850, Test 3.9193 → saved best\n",
            "Epoch  40: Train 3.3905, Test 3.5161 → saved best\n",
            "Epoch  41: Train 2.4924, Test 2.8357 → saved best\n",
            "Epoch  42: Train 1.8673, Test 2.9693 → saved best\n",
            "Epoch  43: Train 1.1770, Test 2.5725 → saved best\n",
            "Epoch  44: Train 0.7787, Test 2.3009 → saved best\n",
            "Epoch  45: Train 0.5510, Test 2.0211 → saved best\n",
            "Epoch  46: Train 0.3495, Test 2.3728 → saved best\n",
            "Epoch  47: Train 0.2837, Test 2.1498 → saved best\n",
            "Epoch  48: Train 0.2826, Test 2.1961 → saved best\n",
            "Epoch  49: Train 0.2620, Test 2.0637 → saved best\n",
            "Epoch  50: Train 0.1996, Test 1.9313 → saved best\n",
            "Epoch  51: Train 0.1846, Test 1.9629 → saved best\n",
            "Epoch  52: Train 0.1752, Test 1.9484 → saved best\n",
            "Epoch  53: Train 0.1549, Test 1.9770 → saved best\n",
            "Epoch  54: Train 0.1379, Test 1.8693 → saved best\n",
            "Epoch  55: Train 0.1563, Test 1.9297 \n",
            "Epoch  56: Train 0.1453, Test 2.2827 \n",
            "Epoch  57: Train 0.1361, Test 1.9207 → saved best\n",
            "Epoch  58: Train 0.1221, Test 1.7934 → saved best\n",
            "Epoch  59: Train 0.1611, Test 1.8047 \n",
            "Epoch  60: Train 0.1274, Test 2.2171 \n",
            "Epoch  61: Train 0.1347, Test 2.0573 \n",
            "Epoch  62: Train 0.1337, Test 2.1597 \n",
            "Epoch  63: Train 0.1063, Test 2.0813 → saved best\n",
            "Epoch  64: Train 0.1070, Test 1.7363 \n",
            "Epoch  65: Train 0.1009, Test 1.6176 → saved best\n",
            "Epoch  66: Train 0.1068, Test 1.7298 \n",
            "Epoch  67: Train 0.1152, Test 1.8354 \n",
            "Epoch  68: Train 0.0989, Test 1.5949 → saved best\n",
            "Epoch  69: Train 0.0906, Test 1.4180 → saved best\n",
            "Epoch  70: Train 0.0933, Test 1.2198 \n",
            "Epoch  71: Train 0.0840, Test 1.4225 → saved best\n",
            "Epoch  72: Train 0.0758, Test 1.4646 → saved best\n",
            "Epoch  73: Train 0.0765, Test 1.3909 \n",
            "Epoch  74: Train 0.0836, Test 1.5078 \n",
            "Epoch  75: Train 0.0980, Test 1.4021 \n",
            "Epoch  76: Train 0.1139, Test 1.3029 \n",
            "Epoch  77: Train 0.0962, Test 1.7085 \n",
            "Epoch  78: Train 0.0844, Test 1.4557 \n",
            "Epoch  79: Train 0.0880, Test 1.3820 \n",
            "Epoch  80: Train 0.0601, Test 1.4806 → saved best\n",
            "Epoch  81: Train 0.0812, Test 1.8479 \n",
            "Epoch  82: Train 0.0735, Test 1.3036 \n",
            "Epoch  83: Train 0.1017, Test 1.6949 \n",
            "Epoch  84: Train 0.0631, Test 1.5814 \n",
            "Epoch  85: Train 0.0523, Test 1.2942 → saved best\n",
            "Epoch  86: Train 0.0691, Test 1.5677 \n",
            "Epoch  87: Train 0.1732, Test 4.7240 \n",
            "Epoch  88: Train 18.1642, Test 18.3547 \n",
            "Epoch  89: Train 8.1196, Test 2.3727 \n",
            "Epoch  90: Train 0.8909, Test 1.4979 \n",
            "Epoch  91: Train 0.5518, Test 1.0368 \n",
            "Epoch  92: Train 0.3354, Test 0.8886 \n",
            "Epoch  93: Train 0.3786, Test 0.8416 \n",
            "Epoch  94: Train 0.3080, Test 0.8877 \n",
            "Epoch  95: Train 0.2827, Test 0.8616 \n",
            "Epoch  96: Train 0.2635, Test 0.8261 \n",
            "Epoch  97: Train 0.2910, Test 0.7953 \n",
            "Epoch  98: Train 0.2522, Test 0.7625 \n",
            "Epoch  99: Train 0.2850, Test 0.6378 \n",
            "Epoch 100: Train 0.2158, Test 0.6363 \n",
            "Epoch 101: Train 0.1634, Test 0.7169 \n",
            "Epoch 102: Train 0.1161, Test 0.7891 \n",
            "Epoch 103: Train 0.1289, Test 0.7930 \n",
            "Epoch 104: Train 0.0827, Test 0.6014 \n",
            "Epoch 105: Train 0.0685, Test 0.6361 \n",
            "Epoch 106: Train 0.0842, Test 0.5825 \n",
            "Epoch 107: Train 0.0760, Test 0.5599 \n",
            "Epoch 108: Train 0.0748, Test 0.4838 \n",
            "Epoch 109: Train 0.0696, Test 0.5226 \n",
            "Epoch 110: Train 0.0640, Test 0.4850 \n",
            "Epoch 111: Train 0.0556, Test 0.4849 \n",
            "Epoch 112: Train 0.0767, Test 0.4298 \n",
            "Epoch 113: Train 0.0717, Test 0.4688 \n",
            "Epoch 114: Train 0.0629, Test 0.4342 \n",
            "Epoch 115: Train 0.0860, Test 0.3588 \n",
            "Epoch 116: Train 0.0686, Test 0.4144 \n",
            "Epoch 117: Train 0.0484, Test 0.3510 → saved best\n",
            "Epoch 118: Train 0.0573, Test 0.3643 \n",
            "Epoch 119: Train 0.0642, Test 0.3302 \n",
            "Epoch 120: Train 0.0542, Test 0.3100 \n",
            "Epoch 121: Train 0.0524, Test 0.4435 \n",
            "Epoch 122: Train 0.0626, Test 0.3267 \n",
            "Epoch 123: Train 0.0588, Test 0.3634 \n",
            "Epoch 124: Train 0.0590, Test 0.2881 \n",
            "Epoch 125: Train 0.0593, Test 0.2496 \n",
            "Epoch 126: Train 0.0652, Test 0.2962 \n",
            "Epoch 127: Train 0.0412, Test 0.2791 → saved best\n",
            "Epoch 128: Train 0.0484, Test 0.2923 \n",
            "Epoch 129: Train 0.0607, Test 0.3215 \n",
            "Epoch 130: Train 0.0490, Test 0.2650 \n",
            "Epoch 131: Train 0.0737, Test 0.2650 \n",
            "Epoch 132: Train 0.0436, Test 0.3644 \n",
            "Epoch 133: Train 0.0451, Test 0.3645 \n",
            "Epoch 134: Train 0.0441, Test 0.2940 \n",
            "Epoch 135: Train 0.0514, Test 0.2625 \n",
            "Epoch 136: Train 0.0500, Test 0.3147 \n",
            "Epoch 137: Train 0.0530, Test 0.1972 \n",
            "Epoch 138: Train 0.0479, Test 0.2482 \n",
            "Epoch 139: Train 0.0489, Test 0.2329 \n",
            "Epoch 140: Train 0.0399, Test 0.3114 → saved best\n",
            "Epoch 141: Train 0.0396, Test 0.2836 → saved best\n",
            "Epoch 142: Train 0.0368, Test 0.2549 → saved best\n",
            "Epoch 143: Train 0.0350, Test 0.2470 → saved best\n",
            "Epoch 144: Train 0.0379, Test 0.2400 \n",
            "Epoch 145: Train 0.0329, Test 0.3261 → saved best\n",
            "Epoch 146: Train 0.0438, Test 0.2737 \n",
            "Epoch 147: Train 0.0438, Test 0.3751 \n",
            "Epoch 148: Train 0.0389, Test 0.4131 \n",
            "Epoch 149: Train 0.0398, Test 0.6214 \n",
            "Epoch 150: Train 0.0422, Test 0.1678 \n",
            "Epoch 151: Train 0.0352, Test 0.1171 \n",
            "Epoch 152: Train 0.0336, Test 0.1966 \n",
            "Epoch 153: Train 0.0356, Test 0.1732 \n",
            "Epoch 154: Train 0.0281, Test 0.1978 → saved best\n",
            "Epoch 155: Train 0.0277, Test 0.1910 → saved best\n",
            "Epoch 156: Train 0.0352, Test 0.2148 \n",
            "Epoch 157: Train 0.0315, Test 0.1962 \n",
            "Epoch 158: Train 0.0276, Test 0.1641 → saved best\n",
            "Epoch 159: Train 0.0346, Test 0.1313 \n",
            "Epoch 160: Train 0.0309, Test 0.2515 \n",
            "Epoch 161: Train 0.0339, Test 0.1446 \n",
            "Epoch 162: Train 0.0328, Test 0.1630 \n",
            "Epoch 163: Train 0.0299, Test 0.1877 \n",
            "Epoch 164: Train 0.0266, Test 0.1230 → saved best\n",
            "Epoch 165: Train 0.0457, Test 0.1836 \n",
            "Epoch 166: Train 3.6804, Test 0.9890 \n",
            "Epoch 167: Train 1.1318, Test 18.5610 \n",
            "Epoch 168: Train 13.6688, Test 1.7402 \n",
            "Epoch 169: Train 0.3112, Test 1.6102 \n",
            "Epoch 170: Train 0.7792, Test 8.0877 \n",
            "Epoch 171: Train 1.7110, Test 2.3322 \n",
            "Epoch 172: Train 0.0923, Test 1.1480 \n",
            "Epoch 173: Train 0.0631, Test 1.1760 \n",
            "Epoch 174: Train 0.0495, Test 1.1913 \n",
            "Epoch 175: Train 0.0528, Test 1.1009 \n",
            "Epoch 176: Train 0.0512, Test 1.0892 \n",
            "Epoch 177: Train 0.0477, Test 1.0665 \n",
            "Epoch 178: Train 0.0444, Test 1.1100 \n",
            "Epoch 179: Train 0.0530, Test 1.0836 \n",
            "Epoch 180: Train 0.0552, Test 1.1618 \n",
            "Epoch 181: Train 0.0464, Test 1.0934 \n",
            "Epoch 182: Train 0.0433, Test 1.0387 \n",
            "Epoch 183: Train 0.0419, Test 1.0714 \n",
            "Epoch 184: Train 0.0459, Test 1.0905 \n",
            "Epoch 185: Train 0.0448, Test 1.0362 \n",
            "Epoch 186: Train 0.0365, Test 1.0468 \n",
            "Epoch 187: Train 0.0358, Test 1.0977 \n",
            "Epoch 188: Train 0.0434, Test 1.1344 \n",
            "Epoch 189: Train 0.0432, Test 1.0539 \n",
            "Epoch 190: Train 0.0395, Test 1.0178 \n",
            "Epoch 191: Train 0.0345, Test 1.0450 \n",
            "Epoch 192: Train 0.0390, Test 0.9105 \n",
            "Epoch 193: Train 0.0329, Test 0.8830 \n",
            "Epoch 194: Train 0.0348, Test 0.8695 \n",
            "Epoch 195: Train 0.0327, Test 0.9213 \n",
            "Epoch 196: Train 0.0314, Test 0.8927 \n",
            "Epoch 197: Train 0.0287, Test 0.8576 \n",
            "Epoch 198: Train 0.0294, Test 0.8499 \n",
            "Epoch 199: Train 0.0344, Test 0.7622 \n",
            "Epoch 200: Train 0.0359, Test 0.7978 \n",
            "Epoch 201: Train 0.0290, Test 0.7498 \n",
            "Epoch 202: Train 0.0377, Test 0.7468 \n",
            "Epoch 203: Train 0.0317, Test 0.8128 \n",
            "Epoch 204: Train 0.0307, Test 0.8417 \n",
            "Epoch 205: Train 0.0271, Test 0.7635 \n",
            "Epoch 206: Train 0.0276, Test 0.8323 \n",
            "Epoch 207: Train 0.0271, Test 0.8106 \n",
            "Epoch 208: Train 0.0246, Test 0.7695 → saved best\n",
            "Epoch 209: Train 0.0231, Test 0.8118 → saved best\n",
            "Epoch 210: Train 0.0230, Test 0.8283 → saved best\n",
            "Epoch 211: Train 0.0323, Test 0.8203 \n",
            "Epoch 212: Train 0.0527, Test 0.5311 \n",
            "Epoch 213: Train 0.0343, Test 0.7207 \n",
            "Epoch 214: Train 0.0287, Test 0.5277 \n",
            "Epoch 215: Train 0.0285, Test 0.6841 \n",
            "Epoch 216: Train 0.0253, Test 0.6340 \n",
            "Epoch 217: Train 0.0257, Test 0.7349 \n",
            "Epoch 218: Train 0.0267, Test 0.7649 \n",
            "Epoch 219: Train 0.0266, Test 0.7363 \n",
            "Epoch 220: Train 0.0268, Test 0.7832 \n",
            "Epoch 221: Train 0.0257, Test 0.6202 \n",
            "Epoch 222: Train 0.0236, Test 0.6165 \n",
            "Epoch 223: Train 0.0259, Test 0.6843 \n",
            "Epoch 224: Train 0.0226, Test 0.6232 → saved best\n",
            "Epoch 225: Train 0.0237, Test 0.7727 \n",
            "Epoch 226: Train 0.0190, Test 0.7052 → saved best\n",
            "Epoch 227: Train 0.0214, Test 0.7535 \n",
            "Epoch 228: Train 0.0192, Test 0.6698 \n",
            "Epoch 229: Train 0.0251, Test 0.7910 \n",
            "Epoch 230: Train 0.0192, Test 0.6103 \n",
            "Epoch 231: Train 0.0226, Test 0.7459 \n",
            "Epoch 232: Train 0.0227, Test 0.7936 \n",
            "Epoch 233: Train 0.0208, Test 0.7363 \n",
            "Epoch 234: Train 0.0229, Test 0.7484 \n",
            "Epoch 235: Train 0.0194, Test 0.9705 \n",
            "Epoch 236: Train 0.0204, Test 0.7745 \n",
            "Epoch 237: Train 0.0194, Test 0.8464 \n",
            "Epoch 238: Train 0.0220, Test 0.8912 \n",
            "Epoch 239: Train 0.0167, Test 0.7221 → saved best\n",
            "Epoch 240: Train 0.0229, Test 0.7719 \n",
            "Epoch 241: Train 0.0196, Test 0.6863 \n",
            "Epoch 242: Train 0.0176, Test 0.6689 \n",
            "Epoch 243: Train 0.0265, Test 0.5520 \n",
            "Epoch 244: Train 0.0226, Test 0.7509 \n",
            "Epoch 245: Train 0.0165, Test 0.6516 → saved best\n",
            "Epoch 246: Train 0.0230, Test 0.7241 \n",
            "Epoch 247: Train 0.0201, Test 0.9020 \n",
            "Epoch 248: Train 0.0177, Test 0.9117 \n",
            "Epoch 249: Train 0.0167, Test 0.6817 \n",
            "Epoch 250: Train 0.0152, Test 0.6450 → saved best\n",
            "Training complete. Best test loss: 0.015157557983627772\n"
          ]
        }
      ],
      "source": [
        "best_train_loss = float('inf')\n",
        "print('Starting Training Loop')\n",
        "\n",
        "# 4) Training loop with device‐moves\n",
        "for epoch in range(1, num_epochs + 1):\n",
        "    # -- Train --\n",
        "    model.train()\n",
        "    train_loss = 0.0\n",
        "    for Xb, yb in train_loader:\n",
        "        Xb, yb = Xb.to(device), yb.to(device)    # Xb is (batch, 1, 36, 350)\n",
        "        preds  = model(Xb)                      # no more unpacking error\n",
        "        loss   = criterion(preds, yb)\n",
        "        optimizer.zero_grad()\n",
        "        loss.backward()\n",
        "        optimizer.step()\n",
        "        train_loss += loss.item() * Xb.size(0)\n",
        "    train_loss /= len(train_loader.dataset)\n",
        "\n",
        "    # -- Evaluate --\n",
        "    model.eval()\n",
        "    test_loss = 0.0\n",
        "    with torch.no_grad():\n",
        "        for Xb, yb in test_loader:\n",
        "            Xb, yb = Xb.to(device), yb.to(device)\n",
        "            test_loss += criterion(model(Xb), yb).item() * Xb.size(0)\n",
        "    test_loss /= len(test_loader.dataset)\n",
        "\n",
        "    # -- Checkpoint --\n",
        "    if train_loss < best_train_loss:\n",
        "        best_train_loss = train_loss\n",
        "        torch.save(model.state_dict(), save_path)\n",
        "        status = '→ saved best'\n",
        "    else:\n",
        "        status = ''\n",
        "    print(f\"Epoch {epoch:3d}: Train {train_loss:.4f}, Test {test_loss:.4f} {status}\")\n",
        "\n",
        "print(\"Training complete. Best test loss:\", best_train_loss)"
      ]
    },
    {
      "cell_type": "markdown",
      "source": [
        "Visualizing the channel embeddings"
      ],
      "metadata": {
        "id": "-jToVdHRtoag"
      }
    },
    {
      "cell_type": "code",
      "source": [
        "W = model.input_proj.weight.data.cpu().numpy()\n",
        "\n",
        "num_channels = 36\n",
        "window_size  = 350\n",
        "d_model       = W.shape[0]\n",
        "\n",
        "channel_embs = np.zeros((num_channels, d_model))\n",
        "for c in range(num_channels):\n",
        "    start = c*window_size\n",
        "    end   = (c+1)*window_size\n",
        "    block = W[:, start:end]           # shape (d_model, window_size)\n",
        "    channel_embs[c] = block.mean(1)   # now (d_model,)"
      ],
      "metadata": {
        "id": "piGM9xYptnsE"
      },
      "execution_count": 12,
      "outputs": []
    },
    {
      "cell_type": "markdown",
      "source": [
        "Computer pairwise similarities"
      ],
      "metadata": {
        "id": "7SDEAJVntxG8"
      }
    },
    {
      "cell_type": "code",
      "source": [
        "from sklearn.metrics.pairwise import cosine_similarity\n",
        "\n",
        "sim_matrix = cosine_similarity(channel_embs)  # shape (36,36)"
      ],
      "metadata": {
        "id": "X8cwQtqStvBe"
      },
      "execution_count": 13,
      "outputs": []
    },
    {
      "cell_type": "markdown",
      "source": [
        "Visualization"
      ],
      "metadata": {
        "id": "L_KUeZ4ut2mC"
      }
    },
    {
      "cell_type": "code",
      "source": [
        "import matplotlib.pyplot as plt\n",
        "\n",
        "plt.figure(figsize=(6,5))\n",
        "plt.imshow(sim_matrix, aspect='equal')\n",
        "plt.colorbar(label='Cosine similarity')\n",
        "plt.xlabel('Channel index')\n",
        "plt.ylabel('Channel index')\n",
        "plt.title('Learned channel embedding similarities')\n",
        "plt.tight_layout()\n",
        "plt.show()"
      ],
      "metadata": {
        "colab": {
          "base_uri": "https://localhost:8080/",
          "height": 504
        },
        "id": "_n89Ez84tz2X",
        "outputId": "193b4460-1c17-4964-bff7-49ae95434e3d"
      },
      "execution_count": 14,
      "outputs": [
        {
          "output_type": "display_data",
          "data": {
            "text/plain": [
              "<Figure size 600x500 with 2 Axes>"
            ],
            "image/png": "[encoded data removed]"
          },
          "metadata": {}
        }
      ]
    }
  ],
  "metadata": {
    "accelerator": "GPU",
    "colab": {
      "gpuType": "T4",
      "provenance": [],
      "include_colab_link": true
    },
    "kernelspec": {
      "display_name": "Python 3",
      "name": "python3"
    },
    "language_info": {
      "name": "python"
    }
  },
  "nbformat": 4,
  "nbformat_minor": 0
}